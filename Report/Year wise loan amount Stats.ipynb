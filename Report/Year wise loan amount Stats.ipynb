{
 "cells": [
  {
   "cell_type": "code",
   "execution_count": 2,
   "id": "710e114a",
   "metadata": {},
   "outputs": [],
   "source": [
    "import pandas as pd"
   ]
  },
  {
   "cell_type": "code",
   "execution_count": 3,
   "id": "a73e1e60",
   "metadata": {},
   "outputs": [],
   "source": [
    "#Importing datafile Finanace_1"
   ]
  },
  {
   "cell_type": "code",
   "execution_count": 15,
   "id": "387589aa",
   "metadata": {},
   "outputs": [],
   "source": [
    "data = pd.read_csv(r\"Finance_1.csv\")"
   ]
  },
  {
   "cell_type": "code",
   "execution_count": 5,
   "id": "2a603edc",
   "metadata": {},
   "outputs": [],
   "source": [
    "#First 5 data"
   ]
  },
  {
   "cell_type": "code",
   "execution_count": 16,
   "id": "f586c359",
   "metadata": {},
   "outputs": [
    {
     "data": {
      "text/html": [
       "<div>\n",
       "<style scoped>\n",
       "    .dataframe tbody tr th:only-of-type {\n",
       "        vertical-align: middle;\n",
       "    }\n",
       "\n",
       "    .dataframe tbody tr th {\n",
       "        vertical-align: top;\n",
       "    }\n",
       "\n",
       "    .dataframe thead th {\n",
       "        text-align: right;\n",
       "    }\n",
       "</style>\n",
       "<table border=\"1\" class=\"dataframe\">\n",
       "  <thead>\n",
       "    <tr style=\"text-align: right;\">\n",
       "      <th></th>\n",
       "      <th>id</th>\n",
       "      <th>member_id</th>\n",
       "      <th>loan_amnt</th>\n",
       "      <th>funded_amnt</th>\n",
       "      <th>funded_amnt_inv</th>\n",
       "      <th>term</th>\n",
       "      <th>int_rate</th>\n",
       "      <th>installment</th>\n",
       "      <th>grade</th>\n",
       "      <th>sub_grade</th>\n",
       "      <th>...</th>\n",
       "      <th>loan_status</th>\n",
       "      <th>pymnt_plan</th>\n",
       "      <th>desc</th>\n",
       "      <th>purpose</th>\n",
       "      <th>title</th>\n",
       "      <th>zip_code</th>\n",
       "      <th>addr_state</th>\n",
       "      <th>dti</th>\n",
       "      <th>issue_d(dd/mm/yyyy)</th>\n",
       "      <th>year</th>\n",
       "    </tr>\n",
       "  </thead>\n",
       "  <tbody>\n",
       "    <tr>\n",
       "      <th>0</th>\n",
       "      <td>54734</td>\n",
       "      <td>80364</td>\n",
       "      <td>25000</td>\n",
       "      <td>25000</td>\n",
       "      <td>19080.057200</td>\n",
       "      <td>36 months</td>\n",
       "      <td>11.89%</td>\n",
       "      <td>829.10</td>\n",
       "      <td>B</td>\n",
       "      <td>B4</td>\n",
       "      <td>...</td>\n",
       "      <td>Fully Paid</td>\n",
       "      <td>n</td>\n",
       "      <td>Due to a lack of personal finance education an...</td>\n",
       "      <td>debt_consolidation</td>\n",
       "      <td>Debt consolidation for on-time payer</td>\n",
       "      <td>941xx</td>\n",
       "      <td>CA</td>\n",
       "      <td>19.48</td>\n",
       "      <td>01-08-2009</td>\n",
       "      <td>2009</td>\n",
       "    </tr>\n",
       "    <tr>\n",
       "      <th>1</th>\n",
       "      <td>55742</td>\n",
       "      <td>114426</td>\n",
       "      <td>7000</td>\n",
       "      <td>7000</td>\n",
       "      <td>672.803839</td>\n",
       "      <td>36 months</td>\n",
       "      <td>10.71%</td>\n",
       "      <td>228.22</td>\n",
       "      <td>B</td>\n",
       "      <td>B5</td>\n",
       "      <td>...</td>\n",
       "      <td>Fully Paid</td>\n",
       "      <td>n</td>\n",
       "      <td>Just want to pay off the last bit of credit ca...</td>\n",
       "      <td>credit_card</td>\n",
       "      <td>Credit Card payoff</td>\n",
       "      <td>112xx</td>\n",
       "      <td>NY</td>\n",
       "      <td>14.29</td>\n",
       "      <td>01-05-2008</td>\n",
       "      <td>2008</td>\n",
       "    </tr>\n",
       "    <tr>\n",
       "      <th>2</th>\n",
       "      <td>57245</td>\n",
       "      <td>138150</td>\n",
       "      <td>1200</td>\n",
       "      <td>1200</td>\n",
       "      <td>1200.000000</td>\n",
       "      <td>36 months</td>\n",
       "      <td>13.11%</td>\n",
       "      <td>40.50</td>\n",
       "      <td>C</td>\n",
       "      <td>C2</td>\n",
       "      <td>...</td>\n",
       "      <td>Fully Paid</td>\n",
       "      <td>n</td>\n",
       "      <td>If funded, I would use this loan consolidate t...</td>\n",
       "      <td>debt_consolidation</td>\n",
       "      <td>zxcvb</td>\n",
       "      <td>777xx</td>\n",
       "      <td>TX</td>\n",
       "      <td>5.47</td>\n",
       "      <td>01-03-2010</td>\n",
       "      <td>2010</td>\n",
       "    </tr>\n",
       "    <tr>\n",
       "      <th>3</th>\n",
       "      <td>57416</td>\n",
       "      <td>139635</td>\n",
       "      <td>10800</td>\n",
       "      <td>10800</td>\n",
       "      <td>10691.551050</td>\n",
       "      <td>36 months</td>\n",
       "      <td>13.57%</td>\n",
       "      <td>366.86</td>\n",
       "      <td>C</td>\n",
       "      <td>C3</td>\n",
       "      <td>...</td>\n",
       "      <td>Fully Paid</td>\n",
       "      <td>n</td>\n",
       "      <td>I currently have a personal loan with Citifina...</td>\n",
       "      <td>debt_consolidation</td>\n",
       "      <td>Nicolechr1978</td>\n",
       "      <td>067xx</td>\n",
       "      <td>CT</td>\n",
       "      <td>11.63</td>\n",
       "      <td>01-11-2009</td>\n",
       "      <td>2009</td>\n",
       "    </tr>\n",
       "    <tr>\n",
       "      <th>4</th>\n",
       "      <td>58915</td>\n",
       "      <td>153417</td>\n",
       "      <td>7500</td>\n",
       "      <td>5025</td>\n",
       "      <td>557.087228</td>\n",
       "      <td>36 months</td>\n",
       "      <td>10.08%</td>\n",
       "      <td>162.34</td>\n",
       "      <td>B</td>\n",
       "      <td>B3</td>\n",
       "      <td>...</td>\n",
       "      <td>Fully Paid</td>\n",
       "      <td>n</td>\n",
       "      <td>Hi :         Thanks for stopping by. I've accr...</td>\n",
       "      <td>debt_consolidation</td>\n",
       "      <td>sdguy</td>\n",
       "      <td>921xx</td>\n",
       "      <td>CA</td>\n",
       "      <td>8.10</td>\n",
       "      <td>01-04-2008</td>\n",
       "      <td>2008</td>\n",
       "    </tr>\n",
       "  </tbody>\n",
       "</table>\n",
       "<p>5 rows × 26 columns</p>\n",
       "</div>"
      ],
      "text/plain": [
       "      id  member_id  loan_amnt  funded_amnt  funded_amnt_inv        term  \\\n",
       "0  54734      80364      25000        25000     19080.057200   36 months   \n",
       "1  55742     114426       7000         7000       672.803839   36 months   \n",
       "2  57245     138150       1200         1200      1200.000000   36 months   \n",
       "3  57416     139635      10800        10800     10691.551050   36 months   \n",
       "4  58915     153417       7500         5025       557.087228   36 months   \n",
       "\n",
       "  int_rate  installment grade sub_grade  ... loan_status pymnt_plan  \\\n",
       "0   11.89%       829.10     B        B4  ...  Fully Paid          n   \n",
       "1   10.71%       228.22     B        B5  ...  Fully Paid          n   \n",
       "2   13.11%        40.50     C        C2  ...  Fully Paid          n   \n",
       "3   13.57%       366.86     C        C3  ...  Fully Paid          n   \n",
       "4   10.08%       162.34     B        B3  ...  Fully Paid          n   \n",
       "\n",
       "                                                desc             purpose  \\\n",
       "0  Due to a lack of personal finance education an...  debt_consolidation   \n",
       "1  Just want to pay off the last bit of credit ca...         credit_card   \n",
       "2  If funded, I would use this loan consolidate t...  debt_consolidation   \n",
       "3  I currently have a personal loan with Citifina...  debt_consolidation   \n",
       "4  Hi :         Thanks for stopping by. I've accr...  debt_consolidation   \n",
       "\n",
       "                                  title zip_code addr_state    dti  \\\n",
       "0  Debt consolidation for on-time payer    941xx         CA  19.48   \n",
       "1                    Credit Card payoff    112xx         NY  14.29   \n",
       "2                                 zxcvb    777xx         TX   5.47   \n",
       "3                         Nicolechr1978    067xx         CT  11.63   \n",
       "4                                 sdguy    921xx         CA   8.10   \n",
       "\n",
       "  issue_d(dd/mm/yyyy)  year  \n",
       "0          01-08-2009  2009  \n",
       "1          01-05-2008  2008  \n",
       "2          01-03-2010  2010  \n",
       "3          01-11-2009  2009  \n",
       "4          01-04-2008  2008  \n",
       "\n",
       "[5 rows x 26 columns]"
      ]
     },
     "execution_count": 16,
     "metadata": {},
     "output_type": "execute_result"
    }
   ],
   "source": [
    "data.head()"
   ]
  },
  {
   "cell_type": "code",
   "execution_count": 7,
   "id": "5e415918",
   "metadata": {},
   "outputs": [],
   "source": [
    "#Number of rows and columns present in data"
   ]
  },
  {
   "cell_type": "code",
   "execution_count": 8,
   "id": "10ff4ad5",
   "metadata": {},
   "outputs": [
    {
     "data": {
      "text/plain": [
       "(39717, 26)"
      ]
     },
     "execution_count": 8,
     "metadata": {},
     "output_type": "execute_result"
    }
   ],
   "source": [
    "data.shape"
   ]
  },
  {
   "cell_type": "code",
   "execution_count": 9,
   "id": "b4b861e3",
   "metadata": {},
   "outputs": [],
   "source": [
    "#Loan_status present in the data"
   ]
  },
  {
   "cell_type": "code",
   "execution_count": 10,
   "id": "193cca09",
   "metadata": {},
   "outputs": [
    {
     "data": {
      "text/plain": [
       "Fully Paid     32950\n",
       "Charged Off     5627\n",
       "Current         1140\n",
       "Name: loan_status, dtype: int64"
      ]
     },
     "execution_count": 10,
     "metadata": {},
     "output_type": "execute_result"
    }
   ],
   "source": [
    "data['loan_status'].value_counts()"
   ]
  },
  {
   "cell_type": "code",
   "execution_count": 11,
   "id": "336cdc4c",
   "metadata": {},
   "outputs": [],
   "source": [
    "#Years and the corresponding values."
   ]
  },
  {
   "cell_type": "code",
   "execution_count": 12,
   "id": "dee513c1",
   "metadata": {},
   "outputs": [
    {
     "data": {
      "text/plain": [
       "2011    21656\n",
       "2010    11532\n",
       "2009     4716\n",
       "2008     1562\n",
       "2007      251\n",
       "Name: year, dtype: int64"
      ]
     },
     "execution_count": 12,
     "metadata": {},
     "output_type": "execute_result"
    }
   ],
   "source": [
    "data['year'].value_counts()"
   ]
  },
  {
   "cell_type": "code",
   "execution_count": 13,
   "id": "d769a9af",
   "metadata": {},
   "outputs": [
    {
     "data": {
      "text/plain": [
       "<function pandas.core.reshape.pivot.crosstab(index, columns, values=None, rownames=None, colnames=None, aggfunc=None, margins: 'bool' = False, margins_name: 'str' = 'All', dropna: 'bool' = True, normalize=False) -> 'DataFrame'>"
      ]
     },
     "execution_count": 13,
     "metadata": {},
     "output_type": "execute_result"
    }
   ],
   "source": [
    "pd.crosstab"
   ]
  },
  {
   "cell_type": "code",
   "execution_count": 14,
   "id": "82e1bcff",
   "metadata": {},
   "outputs": [],
   "source": [
    "##Year wise loan amount Stats##"
   ]
  },
  {
   "cell_type": "code",
   "execution_count": 17,
   "id": "15968587",
   "metadata": {},
   "outputs": [
    {
     "data": {
      "text/html": [
       "<div>\n",
       "<style scoped>\n",
       "    .dataframe tbody tr th:only-of-type {\n",
       "        vertical-align: middle;\n",
       "    }\n",
       "\n",
       "    .dataframe tbody tr th {\n",
       "        vertical-align: top;\n",
       "    }\n",
       "\n",
       "    .dataframe thead th {\n",
       "        text-align: right;\n",
       "    }\n",
       "</style>\n",
       "<table border=\"1\" class=\"dataframe\">\n",
       "  <thead>\n",
       "    <tr style=\"text-align: right;\">\n",
       "      <th>loan_status</th>\n",
       "      <th>Charged Off</th>\n",
       "      <th>Current</th>\n",
       "      <th>Fully Paid</th>\n",
       "    </tr>\n",
       "    <tr>\n",
       "      <th>year</th>\n",
       "      <th></th>\n",
       "      <th></th>\n",
       "      <th></th>\n",
       "    </tr>\n",
       "  </thead>\n",
       "  <tbody>\n",
       "    <tr>\n",
       "      <th>2007</th>\n",
       "      <td>45</td>\n",
       "      <td>0</td>\n",
       "      <td>206</td>\n",
       "    </tr>\n",
       "    <tr>\n",
       "      <th>2008</th>\n",
       "      <td>247</td>\n",
       "      <td>0</td>\n",
       "      <td>1315</td>\n",
       "    </tr>\n",
       "    <tr>\n",
       "      <th>2009</th>\n",
       "      <td>594</td>\n",
       "      <td>0</td>\n",
       "      <td>4122</td>\n",
       "    </tr>\n",
       "    <tr>\n",
       "      <th>2010</th>\n",
       "      <td>1485</td>\n",
       "      <td>0</td>\n",
       "      <td>10047</td>\n",
       "    </tr>\n",
       "    <tr>\n",
       "      <th>2011</th>\n",
       "      <td>3256</td>\n",
       "      <td>1140</td>\n",
       "      <td>17260</td>\n",
       "    </tr>\n",
       "  </tbody>\n",
       "</table>\n",
       "</div>"
      ],
      "text/plain": [
       "loan_status  Charged Off  Current  Fully Paid\n",
       "year                                         \n",
       "2007                  45        0         206\n",
       "2008                 247        0        1315\n",
       "2009                 594        0        4122\n",
       "2010                1485        0       10047\n",
       "2011                3256     1140       17260"
      ]
     },
     "execution_count": 17,
     "metadata": {},
     "output_type": "execute_result"
    }
   ],
   "source": [
    "pd.crosstab(data['year'],data['loan_status'])"
   ]
  },
  {
   "cell_type": "code",
   "execution_count": null,
   "id": "04873a7a",
   "metadata": {},
   "outputs": [],
   "source": [
    "#Year wise loan amount Stats visulalization"
   ]
  },
  {
   "cell_type": "code",
   "execution_count": 18,
   "id": "b2e0ae7b",
   "metadata": {},
   "outputs": [
    {
     "data": {
      "image/png": "[encoded data removed]",
      "text/plain": [
       "<Figure size 432x288 with 1 Axes>"
      ]
     },
     "metadata": {
      "needs_background": "light"
     },
     "output_type": "display_data"
    }
   ],
   "source": [
    "barplot = pd.crosstab(data['year'],data['loan_status']).plot.bar(rot=0)"
   ]
  },
  {
   "cell_type": "code",
   "execution_count": 35,
   "id": "05cd0304",
   "metadata": {},
   "outputs": [],
   "source": [
    "from matplotlib import pyplot as plt"
   ]
  },
  {
   "cell_type": "code",
   "execution_count": 37,
   "id": "980524e6",
   "metadata": {},
   "outputs": [
    {
     "data": {
      "text/plain": [
       "<function matplotlib.pyplot.show(close=None, block=None)>"
      ]
     },
     "execution_count": 37,
     "metadata": {},
     "output_type": "execute_result"
    },
    {
     "data": {
      "image/png": "[encoded data removed]",
      "text/plain": [
       "<Figure size 360x360 with 1 Axes>"
      ]
     },
     "metadata": {
      "needs_background": "light"
     },
     "output_type": "display_data"
    }
   ],
   "source": [
    "plt.figure(figsize=(5,5))\n",
    "plt.bar(list(data['year'].value_counts().keys()),list(data['year'].value_counts()),color=\"g\")\n",
    "plt.show"
   ]
  },
  {
   "cell_type": "code",
   "execution_count": 38,
   "id": "f80cd72d",
   "metadata": {},
   "outputs": [
    {
     "data": {
      "text/plain": [
       "<function matplotlib.pyplot.show(close=None, block=None)>"
      ]
     },
     "execution_count": 38,
     "metadata": {},
     "output_type": "execute_result"
    },
    {
     "data": {
      "image/png": "[encoded data removed]",
      "text/plain": [
       "<Figure size 360x360 with 1 Axes>"
      ]
     },
     "metadata": {
      "needs_background": "light"
     },
     "output_type": "display_data"
    }
   ],
   "source": [
    "\n",
    "plt.figure(figsize=(5,5))\n",
    "plt.bar(list(data['loan_status'].value_counts().keys()),list(data['loan_status'].value_counts()),color=\"r\")\n",
    "plt.show"
   ]
  },
  {
   "cell_type": "code",
   "execution_count": 39,
   "id": "da577f64",
   "metadata": {},
   "outputs": [],
   "source": [
    "%matplotlib inline"
   ]
  },
  {
   "cell_type": "code",
   "execution_count": 40,
   "id": "4957e06a",
   "metadata": {},
   "outputs": [],
   "source": [
    "x=data['year']"
   ]
  },
  {
   "cell_type": "code",
   "execution_count": 41,
   "id": "1ce5d4f4",
   "metadata": {},
   "outputs": [],
   "source": [
    "y=data['loan_status']"
   ]
  },
  {
   "cell_type": "code",
   "execution_count": 42,
   "id": "617f9eb5",
   "metadata": {},
   "outputs": [
    {
     "data": {
      "text/plain": [
       "<matplotlib.collections.PathCollection at 0x165602b0850>"
      ]
     },
     "execution_count": 42,
     "metadata": {},
     "output_type": "execute_result"
    },
    {
     "data": {
      "image/png": "[encoded data removed]",
      "text/plain": [
       "<Figure size 432x288 with 1 Axes>"
      ]
     },
     "metadata": {
      "needs_background": "light"
     },
     "output_type": "display_data"
    }
   ],
   "source": [
    "plt.scatter(x,y)"
   ]
  },
  {
   "cell_type": "code",
   "execution_count": null,
   "id": "9150f490",
   "metadata": {},
   "outputs": [],
   "source": []
  },
  {
   "cell_type": "code",
   "execution_count": null,
   "id": "20c37981",
   "metadata": {},
   "outputs": [],
   "source": []
  }
 ],
 "metadata": {
  "kernelspec": {
   "display_name": "Python 3 (ipykernel)",
   "language": "python",
   "name": "python3"
  },
  "language_info": {
   "codemirror_mode": {
    "name": "ipython",
    "version": 3
   },
   "file_extension": ".py",
   "mimetype": "text/x-python",
   "name": "python",
   "nbconvert_exporter": "python",
   "pygments_lexer": "ipython3",
   "version": "3.9.12"
  }
 },
 "nbformat": 4,
 "nbformat_minor": 5
}
