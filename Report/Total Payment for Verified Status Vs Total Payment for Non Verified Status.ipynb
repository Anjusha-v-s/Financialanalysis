{
 "cells": [
  {
   "cell_type": "code",
   "execution_count": 5,
   "id": "ec62148a",
   "metadata": {},
   "outputs": [],
   "source": [
    "import pandas as pd\n",
    "from matplotlib import pyplot as plt"
   ]
  },
  {
   "cell_type": "code",
   "execution_count": 6,
   "id": "37d197fc",
   "metadata": {},
   "outputs": [],
   "source": [
    "#imported two datasets"
   ]
  },
  {
   "cell_type": "code",
   "execution_count": 7,
   "id": "a1cd5af4",
   "metadata": {},
   "outputs": [],
   "source": [
    "data1 = pd.read_csv(\"Finance_1.csv\")\n",
    "data2 = pd.read_csv(\"Finance_2.csv\")"
   ]
  },
  {
   "cell_type": "code",
   "execution_count": 8,
   "id": "bf9042aa",
   "metadata": {},
   "outputs": [],
   "source": [
    "#TO Find the header names"
   ]
  },
  {
   "cell_type": "code",
   "execution_count": 9,
   "id": "dfbf5291",
   "metadata": {},
   "outputs": [
    {
     "data": {
      "text/html": [
       "<div>\n",
       "<style scoped>\n",
       "    .dataframe tbody tr th:only-of-type {\n",
       "        vertical-align: middle;\n",
       "    }\n",
       "\n",
       "    .dataframe tbody tr th {\n",
       "        vertical-align: top;\n",
       "    }\n",
       "\n",
       "    .dataframe thead th {\n",
       "        text-align: right;\n",
       "    }\n",
       "</style>\n",
       "<table border=\"1\" class=\"dataframe\">\n",
       "  <thead>\n",
       "    <tr style=\"text-align: right;\">\n",
       "      <th></th>\n",
       "      <th>id</th>\n",
       "      <th>member_id</th>\n",
       "      <th>loan_amnt</th>\n",
       "      <th>funded_amnt</th>\n",
       "      <th>funded_amnt_inv</th>\n",
       "      <th>term</th>\n",
       "      <th>int_rate</th>\n",
       "      <th>installment</th>\n",
       "      <th>grade</th>\n",
       "      <th>sub_grade</th>\n",
       "      <th>...</th>\n",
       "      <th>loan_status</th>\n",
       "      <th>pymnt_plan</th>\n",
       "      <th>desc</th>\n",
       "      <th>purpose</th>\n",
       "      <th>title</th>\n",
       "      <th>zip_code</th>\n",
       "      <th>addr_state</th>\n",
       "      <th>dti</th>\n",
       "      <th>issue_d(dd/mm/yyyy)</th>\n",
       "      <th>year</th>\n",
       "    </tr>\n",
       "  </thead>\n",
       "  <tbody>\n",
       "    <tr>\n",
       "      <th>0</th>\n",
       "      <td>54734</td>\n",
       "      <td>80364</td>\n",
       "      <td>25000</td>\n",
       "      <td>25000</td>\n",
       "      <td>19080.057200</td>\n",
       "      <td>36 months</td>\n",
       "      <td>11.89%</td>\n",
       "      <td>829.10</td>\n",
       "      <td>B</td>\n",
       "      <td>B4</td>\n",
       "      <td>...</td>\n",
       "      <td>Fully Paid</td>\n",
       "      <td>n</td>\n",
       "      <td>Due to a lack of personal finance education an...</td>\n",
       "      <td>debt_consolidation</td>\n",
       "      <td>Debt consolidation for on-time payer</td>\n",
       "      <td>941xx</td>\n",
       "      <td>CA</td>\n",
       "      <td>19.48</td>\n",
       "      <td>01-08-2009</td>\n",
       "      <td>2009</td>\n",
       "    </tr>\n",
       "    <tr>\n",
       "      <th>1</th>\n",
       "      <td>55742</td>\n",
       "      <td>114426</td>\n",
       "      <td>7000</td>\n",
       "      <td>7000</td>\n",
       "      <td>672.803839</td>\n",
       "      <td>36 months</td>\n",
       "      <td>10.71%</td>\n",
       "      <td>228.22</td>\n",
       "      <td>B</td>\n",
       "      <td>B5</td>\n",
       "      <td>...</td>\n",
       "      <td>Fully Paid</td>\n",
       "      <td>n</td>\n",
       "      <td>Just want to pay off the last bit of credit ca...</td>\n",
       "      <td>credit_card</td>\n",
       "      <td>Credit Card payoff</td>\n",
       "      <td>112xx</td>\n",
       "      <td>NY</td>\n",
       "      <td>14.29</td>\n",
       "      <td>01-05-2008</td>\n",
       "      <td>2008</td>\n",
       "    </tr>\n",
       "    <tr>\n",
       "      <th>2</th>\n",
       "      <td>57245</td>\n",
       "      <td>138150</td>\n",
       "      <td>1200</td>\n",
       "      <td>1200</td>\n",
       "      <td>1200.000000</td>\n",
       "      <td>36 months</td>\n",
       "      <td>13.11%</td>\n",
       "      <td>40.50</td>\n",
       "      <td>C</td>\n",
       "      <td>C2</td>\n",
       "      <td>...</td>\n",
       "      <td>Fully Paid</td>\n",
       "      <td>n</td>\n",
       "      <td>If funded, I would use this loan consolidate t...</td>\n",
       "      <td>debt_consolidation</td>\n",
       "      <td>zxcvb</td>\n",
       "      <td>777xx</td>\n",
       "      <td>TX</td>\n",
       "      <td>5.47</td>\n",
       "      <td>01-03-2010</td>\n",
       "      <td>2010</td>\n",
       "    </tr>\n",
       "    <tr>\n",
       "      <th>3</th>\n",
       "      <td>57416</td>\n",
       "      <td>139635</td>\n",
       "      <td>10800</td>\n",
       "      <td>10800</td>\n",
       "      <td>10691.551050</td>\n",
       "      <td>36 months</td>\n",
       "      <td>13.57%</td>\n",
       "      <td>366.86</td>\n",
       "      <td>C</td>\n",
       "      <td>C3</td>\n",
       "      <td>...</td>\n",
       "      <td>Fully Paid</td>\n",
       "      <td>n</td>\n",
       "      <td>I currently have a personal loan with Citifina...</td>\n",
       "      <td>debt_consolidation</td>\n",
       "      <td>Nicolechr1978</td>\n",
       "      <td>067xx</td>\n",
       "      <td>CT</td>\n",
       "      <td>11.63</td>\n",
       "      <td>01-11-2009</td>\n",
       "      <td>2009</td>\n",
       "    </tr>\n",
       "    <tr>\n",
       "      <th>4</th>\n",
       "      <td>58915</td>\n",
       "      <td>153417</td>\n",
       "      <td>7500</td>\n",
       "      <td>5025</td>\n",
       "      <td>557.087228</td>\n",
       "      <td>36 months</td>\n",
       "      <td>10.08%</td>\n",
       "      <td>162.34</td>\n",
       "      <td>B</td>\n",
       "      <td>B3</td>\n",
       "      <td>...</td>\n",
       "      <td>Fully Paid</td>\n",
       "      <td>n</td>\n",
       "      <td>Hi :         Thanks for stopping by. I've accr...</td>\n",
       "      <td>debt_consolidation</td>\n",
       "      <td>sdguy</td>\n",
       "      <td>921xx</td>\n",
       "      <td>CA</td>\n",
       "      <td>8.10</td>\n",
       "      <td>01-04-2008</td>\n",
       "      <td>2008</td>\n",
       "    </tr>\n",
       "  </tbody>\n",
       "</table>\n",
       "<p>5 rows × 26 columns</p>\n",
       "</div>"
      ],
      "text/plain": [
       "      id  member_id  loan_amnt  funded_amnt  funded_amnt_inv        term  \\\n",
       "0  54734      80364      25000        25000     19080.057200   36 months   \n",
       "1  55742     114426       7000         7000       672.803839   36 months   \n",
       "2  57245     138150       1200         1200      1200.000000   36 months   \n",
       "3  57416     139635      10800        10800     10691.551050   36 months   \n",
       "4  58915     153417       7500         5025       557.087228   36 months   \n",
       "\n",
       "  int_rate  installment grade sub_grade  ... loan_status pymnt_plan  \\\n",
       "0   11.89%       829.10     B        B4  ...  Fully Paid          n   \n",
       "1   10.71%       228.22     B        B5  ...  Fully Paid          n   \n",
       "2   13.11%        40.50     C        C2  ...  Fully Paid          n   \n",
       "3   13.57%       366.86     C        C3  ...  Fully Paid          n   \n",
       "4   10.08%       162.34     B        B3  ...  Fully Paid          n   \n",
       "\n",
       "                                                desc             purpose  \\\n",
       "0  Due to a lack of personal finance education an...  debt_consolidation   \n",
       "1  Just want to pay off the last bit of credit ca...         credit_card   \n",
       "2  If funded, I would use this loan consolidate t...  debt_consolidation   \n",
       "3  I currently have a personal loan with Citifina...  debt_consolidation   \n",
       "4  Hi :         Thanks for stopping by. I've accr...  debt_consolidation   \n",
       "\n",
       "                                  title zip_code addr_state    dti  \\\n",
       "0  Debt consolidation for on-time payer    941xx         CA  19.48   \n",
       "1                    Credit Card payoff    112xx         NY  14.29   \n",
       "2                                 zxcvb    777xx         TX   5.47   \n",
       "3                         Nicolechr1978    067xx         CT  11.63   \n",
       "4                                 sdguy    921xx         CA   8.10   \n",
       "\n",
       "  issue_d(dd/mm/yyyy)  year  \n",
       "0          01-08-2009  2009  \n",
       "1          01-05-2008  2008  \n",
       "2          01-03-2010  2010  \n",
       "3          01-11-2009  2009  \n",
       "4          01-04-2008  2008  \n",
       "\n",
       "[5 rows x 26 columns]"
      ]
     },
     "execution_count": 9,
     "metadata": {},
     "output_type": "execute_result"
    }
   ],
   "source": [
    "data1.head()"
   ]
  },
  {
   "cell_type": "code",
   "execution_count": 10,
   "id": "72fed945",
   "metadata": {},
   "outputs": [
    {
     "data": {
      "text/html": [
       "<div>\n",
       "<style scoped>\n",
       "    .dataframe tbody tr th:only-of-type {\n",
       "        vertical-align: middle;\n",
       "    }\n",
       "\n",
       "    .dataframe tbody tr th {\n",
       "        vertical-align: top;\n",
       "    }\n",
       "\n",
       "    .dataframe thead th {\n",
       "        text-align: right;\n",
       "    }\n",
       "</style>\n",
       "<table border=\"1\" class=\"dataframe\">\n",
       "  <thead>\n",
       "    <tr style=\"text-align: right;\">\n",
       "      <th></th>\n",
       "      <th>id</th>\n",
       "      <th>delinq_2yrs</th>\n",
       "      <th>earliest_cr_line</th>\n",
       "      <th>inq_last_6mths</th>\n",
       "      <th>mths_since_last_delinq</th>\n",
       "      <th>mths_since_last_record</th>\n",
       "      <th>open_acc</th>\n",
       "      <th>pub_rec</th>\n",
       "      <th>revol_bal</th>\n",
       "      <th>revol_util</th>\n",
       "      <th>...</th>\n",
       "      <th>total_pymnt_inv</th>\n",
       "      <th>total_rec_prncp</th>\n",
       "      <th>total_rec_int</th>\n",
       "      <th>total_rec_late_fee</th>\n",
       "      <th>recoveries</th>\n",
       "      <th>collection_recovery_fee</th>\n",
       "      <th>last_pymnt_d</th>\n",
       "      <th>last_pymnt_amnt</th>\n",
       "      <th>next_pymnt_d</th>\n",
       "      <th>last_credit_pull_d</th>\n",
       "    </tr>\n",
       "  </thead>\n",
       "  <tbody>\n",
       "    <tr>\n",
       "      <th>0</th>\n",
       "      <td>54734</td>\n",
       "      <td>0</td>\n",
       "      <td>Feb-94</td>\n",
       "      <td>0</td>\n",
       "      <td>NaN</td>\n",
       "      <td>NaN</td>\n",
       "      <td>10</td>\n",
       "      <td>0</td>\n",
       "      <td>28854</td>\n",
       "      <td>52.10%</td>\n",
       "      <td>...</td>\n",
       "      <td>21817.65</td>\n",
       "      <td>25000.00</td>\n",
       "      <td>4330.36</td>\n",
       "      <td>0.0</td>\n",
       "      <td>0.0</td>\n",
       "      <td>0.0</td>\n",
       "      <td>Oct-11</td>\n",
       "      <td>7392.08</td>\n",
       "      <td>NaN</td>\n",
       "      <td>Aug-12</td>\n",
       "    </tr>\n",
       "    <tr>\n",
       "      <th>1</th>\n",
       "      <td>55742</td>\n",
       "      <td>0</td>\n",
       "      <td>Oct-00</td>\n",
       "      <td>0</td>\n",
       "      <td>NaN</td>\n",
       "      <td>NaN</td>\n",
       "      <td>7</td>\n",
       "      <td>0</td>\n",
       "      <td>33623</td>\n",
       "      <td>76.70%</td>\n",
       "      <td>...</td>\n",
       "      <td>684.94</td>\n",
       "      <td>7000.00</td>\n",
       "      <td>1215.54</td>\n",
       "      <td>0.0</td>\n",
       "      <td>0.0</td>\n",
       "      <td>0.0</td>\n",
       "      <td>Jun-11</td>\n",
       "      <td>228.48</td>\n",
       "      <td>NaN</td>\n",
       "      <td>Aug-12</td>\n",
       "    </tr>\n",
       "    <tr>\n",
       "      <th>2</th>\n",
       "      <td>57245</td>\n",
       "      <td>0</td>\n",
       "      <td>Jan-85</td>\n",
       "      <td>0</td>\n",
       "      <td>64.0</td>\n",
       "      <td>NaN</td>\n",
       "      <td>5</td>\n",
       "      <td>0</td>\n",
       "      <td>2584</td>\n",
       "      <td>40.40%</td>\n",
       "      <td>...</td>\n",
       "      <td>1457.82</td>\n",
       "      <td>1200.00</td>\n",
       "      <td>257.82</td>\n",
       "      <td>0.0</td>\n",
       "      <td>0.0</td>\n",
       "      <td>0.0</td>\n",
       "      <td>Mar-13</td>\n",
       "      <td>42.73</td>\n",
       "      <td>NaN</td>\n",
       "      <td>May-16</td>\n",
       "    </tr>\n",
       "    <tr>\n",
       "      <th>3</th>\n",
       "      <td>57416</td>\n",
       "      <td>0</td>\n",
       "      <td>Dec-96</td>\n",
       "      <td>1</td>\n",
       "      <td>58.0</td>\n",
       "      <td>NaN</td>\n",
       "      <td>14</td>\n",
       "      <td>0</td>\n",
       "      <td>3511</td>\n",
       "      <td>25.60%</td>\n",
       "      <td>...</td>\n",
       "      <td>13073.71</td>\n",
       "      <td>10800.00</td>\n",
       "      <td>2407.76</td>\n",
       "      <td>0.0</td>\n",
       "      <td>0.0</td>\n",
       "      <td>0.0</td>\n",
       "      <td>Nov-12</td>\n",
       "      <td>398.00</td>\n",
       "      <td>NaN</td>\n",
       "      <td>May-16</td>\n",
       "    </tr>\n",
       "    <tr>\n",
       "      <th>4</th>\n",
       "      <td>58915</td>\n",
       "      <td>0</td>\n",
       "      <td>Nov-00</td>\n",
       "      <td>1</td>\n",
       "      <td>NaN</td>\n",
       "      <td>NaN</td>\n",
       "      <td>3</td>\n",
       "      <td>0</td>\n",
       "      <td>33667</td>\n",
       "      <td>73.20%</td>\n",
       "      <td>...</td>\n",
       "      <td>571.30</td>\n",
       "      <td>5024.99</td>\n",
       "      <td>818.88</td>\n",
       "      <td>0.0</td>\n",
       "      <td>0.0</td>\n",
       "      <td>0.0</td>\n",
       "      <td>Apr-11</td>\n",
       "      <td>162.63</td>\n",
       "      <td>NaN</td>\n",
       "      <td>Mar-14</td>\n",
       "    </tr>\n",
       "  </tbody>\n",
       "</table>\n",
       "<p>5 rows × 25 columns</p>\n",
       "</div>"
      ],
      "text/plain": [
       "      id  delinq_2yrs earliest_cr_line  inq_last_6mths  \\\n",
       "0  54734            0           Feb-94               0   \n",
       "1  55742            0           Oct-00               0   \n",
       "2  57245            0           Jan-85               0   \n",
       "3  57416            0           Dec-96               1   \n",
       "4  58915            0           Nov-00               1   \n",
       "\n",
       "   mths_since_last_delinq  mths_since_last_record  open_acc  pub_rec  \\\n",
       "0                     NaN                     NaN        10        0   \n",
       "1                     NaN                     NaN         7        0   \n",
       "2                    64.0                     NaN         5        0   \n",
       "3                    58.0                     NaN        14        0   \n",
       "4                     NaN                     NaN         3        0   \n",
       "\n",
       "   revol_bal revol_util  ...  total_pymnt_inv total_rec_prncp  total_rec_int  \\\n",
       "0      28854     52.10%  ...         21817.65        25000.00        4330.36   \n",
       "1      33623     76.70%  ...           684.94         7000.00        1215.54   \n",
       "2       2584     40.40%  ...          1457.82         1200.00         257.82   \n",
       "3       3511     25.60%  ...         13073.71        10800.00        2407.76   \n",
       "4      33667     73.20%  ...           571.30         5024.99         818.88   \n",
       "\n",
       "   total_rec_late_fee  recoveries  collection_recovery_fee  last_pymnt_d  \\\n",
       "0                 0.0         0.0                      0.0        Oct-11   \n",
       "1                 0.0         0.0                      0.0        Jun-11   \n",
       "2                 0.0         0.0                      0.0        Mar-13   \n",
       "3                 0.0         0.0                      0.0        Nov-12   \n",
       "4                 0.0         0.0                      0.0        Apr-11   \n",
       "\n",
       "   last_pymnt_amnt  next_pymnt_d  last_credit_pull_d  \n",
       "0          7392.08           NaN              Aug-12  \n",
       "1           228.48           NaN              Aug-12  \n",
       "2            42.73           NaN              May-16  \n",
       "3           398.00           NaN              May-16  \n",
       "4           162.63           NaN              Mar-14  \n",
       "\n",
       "[5 rows x 25 columns]"
      ]
     },
     "execution_count": 10,
     "metadata": {},
     "output_type": "execute_result"
    }
   ],
   "source": [
    "data2.head()"
   ]
  },
  {
   "cell_type": "code",
   "execution_count": 11,
   "id": "d1756b4e",
   "metadata": {},
   "outputs": [],
   "source": [
    "#Number of rows and colums found in the dataset1 and dataset 2"
   ]
  },
  {
   "cell_type": "code",
   "execution_count": 12,
   "id": "e0423093",
   "metadata": {},
   "outputs": [
    {
     "data": {
      "text/plain": [
       "(39717, 26)"
      ]
     },
     "execution_count": 12,
     "metadata": {},
     "output_type": "execute_result"
    }
   ],
   "source": [
    "data1.shape"
   ]
  },
  {
   "cell_type": "code",
   "execution_count": 13,
   "id": "d6d47d57",
   "metadata": {},
   "outputs": [
    {
     "data": {
      "text/plain": [
       "(39717, 25)"
      ]
     },
     "execution_count": 13,
     "metadata": {},
     "output_type": "execute_result"
    }
   ],
   "source": [
    "data2.shape"
   ]
  },
  {
   "cell_type": "code",
   "execution_count": 14,
   "id": "6b6f4548",
   "metadata": {},
   "outputs": [],
   "source": [
    "#Number of keys present in the column verification status"
   ]
  },
  {
   "cell_type": "code",
   "execution_count": 15,
   "id": "6258fe7f",
   "metadata": {},
   "outputs": [
    {
     "data": {
      "text/plain": [
       "Index(['Not Verified', 'Verified', 'Source Verified'], dtype='object')"
      ]
     },
     "execution_count": 15,
     "metadata": {},
     "output_type": "execute_result"
    }
   ],
   "source": [
    "data1['verification_status'].value_counts().keys()"
   ]
  },
  {
   "cell_type": "code",
   "execution_count": 16,
   "id": "4956e03d",
   "metadata": {},
   "outputs": [],
   "source": [
    "#Verification status present in the dataset"
   ]
  },
  {
   "cell_type": "code",
   "execution_count": 17,
   "id": "9832af3f",
   "metadata": {},
   "outputs": [
    {
     "data": {
      "text/plain": [
       "Not Verified       16921\n",
       "Verified           12809\n",
       "Source Verified     9987\n",
       "Name: verification_status, dtype: int64"
      ]
     },
     "execution_count": 17,
     "metadata": {},
     "output_type": "execute_result"
    }
   ],
   "source": [
    "data1['verification_status'].value_counts()"
   ]
  },
  {
   "cell_type": "code",
   "execution_count": 18,
   "id": "af6c7ffe",
   "metadata": {},
   "outputs": [],
   "source": [
    "#Show pie chart of verification status"
   ]
  },
  {
   "cell_type": "code",
   "execution_count": 19,
   "id": "d2316157",
   "metadata": {},
   "outputs": [],
   "source": [
    "from matplotlib import pyplot as plt"
   ]
  },
  {
   "cell_type": "code",
   "execution_count": 20,
   "id": "9861414c",
   "metadata": {},
   "outputs": [
    {
     "data": {
      "image/png": "[encoded data removed]",
      "text/plain": [
       "<Figure size 432x288 with 1 Axes>"
      ]
     },
     "metadata": {},
     "output_type": "display_data"
    }
   ],
   "source": [
    "plt.pie(list(data1['verification_status'].value_counts()), labels = data1['verification_status'].value_counts().keys())\n",
    "plt.axis('equal')\n",
    "plt.show()"
   ]
  },
  {
   "cell_type": "code",
   "execution_count": 21,
   "id": "57b43e61",
   "metadata": {},
   "outputs": [],
   "source": [
    "#Merged two csv files in which id is same for both of them."
   ]
  },
  {
   "cell_type": "code",
   "execution_count": 22,
   "id": "47f48224",
   "metadata": {},
   "outputs": [],
   "source": [
    "Merged_file = pd.merge(data1, data2, how='inner', on=['id'])"
   ]
  },
  {
   "cell_type": "code",
   "execution_count": 23,
   "id": "3edbec22",
   "metadata": {},
   "outputs": [],
   "source": [
    "#Headers of merged file"
   ]
  },
  {
   "cell_type": "code",
   "execution_count": 24,
   "id": "d209bcdd",
   "metadata": {},
   "outputs": [
    {
     "data": {
      "text/html": [
       "<div>\n",
       "<style scoped>\n",
       "    .dataframe tbody tr th:only-of-type {\n",
       "        vertical-align: middle;\n",
       "    }\n",
       "\n",
       "    .dataframe tbody tr th {\n",
       "        vertical-align: top;\n",
       "    }\n",
       "\n",
       "    .dataframe thead th {\n",
       "        text-align: right;\n",
       "    }\n",
       "</style>\n",
       "<table border=\"1\" class=\"dataframe\">\n",
       "  <thead>\n",
       "    <tr style=\"text-align: right;\">\n",
       "      <th></th>\n",
       "      <th>id</th>\n",
       "      <th>member_id</th>\n",
       "      <th>loan_amnt</th>\n",
       "      <th>funded_amnt</th>\n",
       "      <th>funded_amnt_inv</th>\n",
       "      <th>term</th>\n",
       "      <th>int_rate</th>\n",
       "      <th>installment</th>\n",
       "      <th>grade</th>\n",
       "      <th>sub_grade</th>\n",
       "      <th>...</th>\n",
       "      <th>total_pymnt_inv</th>\n",
       "      <th>total_rec_prncp</th>\n",
       "      <th>total_rec_int</th>\n",
       "      <th>total_rec_late_fee</th>\n",
       "      <th>recoveries</th>\n",
       "      <th>collection_recovery_fee</th>\n",
       "      <th>last_pymnt_d</th>\n",
       "      <th>last_pymnt_amnt</th>\n",
       "      <th>next_pymnt_d</th>\n",
       "      <th>last_credit_pull_d</th>\n",
       "    </tr>\n",
       "  </thead>\n",
       "  <tbody>\n",
       "    <tr>\n",
       "      <th>0</th>\n",
       "      <td>54734</td>\n",
       "      <td>80364</td>\n",
       "      <td>25000</td>\n",
       "      <td>25000</td>\n",
       "      <td>19080.057200</td>\n",
       "      <td>36 months</td>\n",
       "      <td>11.89%</td>\n",
       "      <td>829.10</td>\n",
       "      <td>B</td>\n",
       "      <td>B4</td>\n",
       "      <td>...</td>\n",
       "      <td>21817.65</td>\n",
       "      <td>25000.00</td>\n",
       "      <td>4330.36</td>\n",
       "      <td>0.0</td>\n",
       "      <td>0.0</td>\n",
       "      <td>0.0</td>\n",
       "      <td>Oct-11</td>\n",
       "      <td>7392.08</td>\n",
       "      <td>NaN</td>\n",
       "      <td>Aug-12</td>\n",
       "    </tr>\n",
       "    <tr>\n",
       "      <th>1</th>\n",
       "      <td>55742</td>\n",
       "      <td>114426</td>\n",
       "      <td>7000</td>\n",
       "      <td>7000</td>\n",
       "      <td>672.803839</td>\n",
       "      <td>36 months</td>\n",
       "      <td>10.71%</td>\n",
       "      <td>228.22</td>\n",
       "      <td>B</td>\n",
       "      <td>B5</td>\n",
       "      <td>...</td>\n",
       "      <td>684.94</td>\n",
       "      <td>7000.00</td>\n",
       "      <td>1215.54</td>\n",
       "      <td>0.0</td>\n",
       "      <td>0.0</td>\n",
       "      <td>0.0</td>\n",
       "      <td>Jun-11</td>\n",
       "      <td>228.48</td>\n",
       "      <td>NaN</td>\n",
       "      <td>Aug-12</td>\n",
       "    </tr>\n",
       "    <tr>\n",
       "      <th>2</th>\n",
       "      <td>57245</td>\n",
       "      <td>138150</td>\n",
       "      <td>1200</td>\n",
       "      <td>1200</td>\n",
       "      <td>1200.000000</td>\n",
       "      <td>36 months</td>\n",
       "      <td>13.11%</td>\n",
       "      <td>40.50</td>\n",
       "      <td>C</td>\n",
       "      <td>C2</td>\n",
       "      <td>...</td>\n",
       "      <td>1457.82</td>\n",
       "      <td>1200.00</td>\n",
       "      <td>257.82</td>\n",
       "      <td>0.0</td>\n",
       "      <td>0.0</td>\n",
       "      <td>0.0</td>\n",
       "      <td>Mar-13</td>\n",
       "      <td>42.73</td>\n",
       "      <td>NaN</td>\n",
       "      <td>May-16</td>\n",
       "    </tr>\n",
       "    <tr>\n",
       "      <th>3</th>\n",
       "      <td>57416</td>\n",
       "      <td>139635</td>\n",
       "      <td>10800</td>\n",
       "      <td>10800</td>\n",
       "      <td>10691.551050</td>\n",
       "      <td>36 months</td>\n",
       "      <td>13.57%</td>\n",
       "      <td>366.86</td>\n",
       "      <td>C</td>\n",
       "      <td>C3</td>\n",
       "      <td>...</td>\n",
       "      <td>13073.71</td>\n",
       "      <td>10800.00</td>\n",
       "      <td>2407.76</td>\n",
       "      <td>0.0</td>\n",
       "      <td>0.0</td>\n",
       "      <td>0.0</td>\n",
       "      <td>Nov-12</td>\n",
       "      <td>398.00</td>\n",
       "      <td>NaN</td>\n",
       "      <td>May-16</td>\n",
       "    </tr>\n",
       "    <tr>\n",
       "      <th>4</th>\n",
       "      <td>58915</td>\n",
       "      <td>153417</td>\n",
       "      <td>7500</td>\n",
       "      <td>5025</td>\n",
       "      <td>557.087228</td>\n",
       "      <td>36 months</td>\n",
       "      <td>10.08%</td>\n",
       "      <td>162.34</td>\n",
       "      <td>B</td>\n",
       "      <td>B3</td>\n",
       "      <td>...</td>\n",
       "      <td>571.30</td>\n",
       "      <td>5024.99</td>\n",
       "      <td>818.88</td>\n",
       "      <td>0.0</td>\n",
       "      <td>0.0</td>\n",
       "      <td>0.0</td>\n",
       "      <td>Apr-11</td>\n",
       "      <td>162.63</td>\n",
       "      <td>NaN</td>\n",
       "      <td>Mar-14</td>\n",
       "    </tr>\n",
       "  </tbody>\n",
       "</table>\n",
       "<p>5 rows × 50 columns</p>\n",
       "</div>"
      ],
      "text/plain": [
       "      id  member_id  loan_amnt  funded_amnt  funded_amnt_inv        term  \\\n",
       "0  54734      80364      25000        25000     19080.057200   36 months   \n",
       "1  55742     114426       7000         7000       672.803839   36 months   \n",
       "2  57245     138150       1200         1200      1200.000000   36 months   \n",
       "3  57416     139635      10800        10800     10691.551050   36 months   \n",
       "4  58915     153417       7500         5025       557.087228   36 months   \n",
       "\n",
       "  int_rate  installment grade sub_grade  ... total_pymnt_inv total_rec_prncp  \\\n",
       "0   11.89%       829.10     B        B4  ...        21817.65        25000.00   \n",
       "1   10.71%       228.22     B        B5  ...          684.94         7000.00   \n",
       "2   13.11%        40.50     C        C2  ...         1457.82         1200.00   \n",
       "3   13.57%       366.86     C        C3  ...        13073.71        10800.00   \n",
       "4   10.08%       162.34     B        B3  ...          571.30         5024.99   \n",
       "\n",
       "  total_rec_int  total_rec_late_fee recoveries collection_recovery_fee  \\\n",
       "0       4330.36                 0.0        0.0                     0.0   \n",
       "1       1215.54                 0.0        0.0                     0.0   \n",
       "2        257.82                 0.0        0.0                     0.0   \n",
       "3       2407.76                 0.0        0.0                     0.0   \n",
       "4        818.88                 0.0        0.0                     0.0   \n",
       "\n",
       "  last_pymnt_d last_pymnt_amnt next_pymnt_d last_credit_pull_d  \n",
       "0       Oct-11         7392.08          NaN             Aug-12  \n",
       "1       Jun-11          228.48          NaN             Aug-12  \n",
       "2       Mar-13           42.73          NaN             May-16  \n",
       "3       Nov-12          398.00          NaN             May-16  \n",
       "4       Apr-11          162.63          NaN             Mar-14  \n",
       "\n",
       "[5 rows x 50 columns]"
      ]
     },
     "execution_count": 24,
     "metadata": {},
     "output_type": "execute_result"
    }
   ],
   "source": [
    "Merged_file.head()"
   ]
  },
  {
   "cell_type": "code",
   "execution_count": 25,
   "id": "e6ce2176",
   "metadata": {},
   "outputs": [],
   "source": [
    "#Number of Rows and columns present in the merged dataset"
   ]
  },
  {
   "cell_type": "code",
   "execution_count": 26,
   "id": "4324b5e0",
   "metadata": {},
   "outputs": [
    {
     "data": {
      "text/plain": [
       "(39717, 50)"
      ]
     },
     "execution_count": 26,
     "metadata": {},
     "output_type": "execute_result"
    }
   ],
   "source": [
    "Merged_file.shape"
   ]
  },
  {
   "cell_type": "code",
   "execution_count": 27,
   "id": "a9ca99de",
   "metadata": {},
   "outputs": [],
   "source": [
    "#Make a new dataset with the rows needed"
   ]
  },
  {
   "cell_type": "code",
   "execution_count": 28,
   "id": "47f7f56c",
   "metadata": {},
   "outputs": [
    {
     "data": {
      "text/html": [
       "<div>\n",
       "<style scoped>\n",
       "    .dataframe tbody tr th:only-of-type {\n",
       "        vertical-align: middle;\n",
       "    }\n",
       "\n",
       "    .dataframe tbody tr th {\n",
       "        vertical-align: top;\n",
       "    }\n",
       "\n",
       "    .dataframe thead th {\n",
       "        text-align: right;\n",
       "    }\n",
       "</style>\n",
       "<table border=\"1\" class=\"dataframe\">\n",
       "  <thead>\n",
       "    <tr style=\"text-align: right;\">\n",
       "      <th></th>\n",
       "      <th>id</th>\n",
       "      <th>total_pymnt</th>\n",
       "      <th>verification_status</th>\n",
       "    </tr>\n",
       "  </thead>\n",
       "  <tbody>\n",
       "    <tr>\n",
       "      <th>0</th>\n",
       "      <td>54734</td>\n",
       "      <td>29330.356700</td>\n",
       "      <td>Verified</td>\n",
       "    </tr>\n",
       "    <tr>\n",
       "      <th>1</th>\n",
       "      <td>55742</td>\n",
       "      <td>8215.537060</td>\n",
       "      <td>Not Verified</td>\n",
       "    </tr>\n",
       "    <tr>\n",
       "      <th>2</th>\n",
       "      <td>57245</td>\n",
       "      <td>1457.819531</td>\n",
       "      <td>Not Verified</td>\n",
       "    </tr>\n",
       "    <tr>\n",
       "      <th>3</th>\n",
       "      <td>57416</td>\n",
       "      <td>13207.763300</td>\n",
       "      <td>Not Verified</td>\n",
       "    </tr>\n",
       "    <tr>\n",
       "      <th>4</th>\n",
       "      <td>58915</td>\n",
       "      <td>5843.875367</td>\n",
       "      <td>Not Verified</td>\n",
       "    </tr>\n",
       "    <tr>\n",
       "      <th>...</th>\n",
       "      <td>...</td>\n",
       "      <td>...</td>\n",
       "      <td>...</td>\n",
       "    </tr>\n",
       "    <tr>\n",
       "      <th>39712</th>\n",
       "      <td>1075358</td>\n",
       "      <td>3513.330000</td>\n",
       "      <td>Source Verified</td>\n",
       "    </tr>\n",
       "    <tr>\n",
       "      <th>39713</th>\n",
       "      <td>1076863</td>\n",
       "      <td>12231.890000</td>\n",
       "      <td>Source Verified</td>\n",
       "    </tr>\n",
       "    <tr>\n",
       "      <th>39714</th>\n",
       "      <td>1077175</td>\n",
       "      <td>3005.666844</td>\n",
       "      <td>Not Verified</td>\n",
       "    </tr>\n",
       "    <tr>\n",
       "      <th>39715</th>\n",
       "      <td>1077430</td>\n",
       "      <td>1008.710000</td>\n",
       "      <td>Source Verified</td>\n",
       "    </tr>\n",
       "    <tr>\n",
       "      <th>39716</th>\n",
       "      <td>1077501</td>\n",
       "      <td>5863.155187</td>\n",
       "      <td>Verified</td>\n",
       "    </tr>\n",
       "  </tbody>\n",
       "</table>\n",
       "<p>39717 rows × 3 columns</p>\n",
       "</div>"
      ],
      "text/plain": [
       "            id   total_pymnt verification_status\n",
       "0        54734  29330.356700            Verified\n",
       "1        55742   8215.537060        Not Verified\n",
       "2        57245   1457.819531        Not Verified\n",
       "3        57416  13207.763300        Not Verified\n",
       "4        58915   5843.875367        Not Verified\n",
       "...        ...           ...                 ...\n",
       "39712  1075358   3513.330000     Source Verified\n",
       "39713  1076863  12231.890000     Source Verified\n",
       "39714  1077175   3005.666844        Not Verified\n",
       "39715  1077430   1008.710000     Source Verified\n",
       "39716  1077501   5863.155187            Verified\n",
       "\n",
       "[39717 rows x 3 columns]"
      ]
     },
     "execution_count": 28,
     "metadata": {},
     "output_type": "execute_result"
    }
   ],
   "source": [
    "final_set = Merged_file[['id','total_pymnt','verification_status']]\n",
    "final_set"
   ]
  },
  {
   "cell_type": "code",
   "execution_count": 29,
   "id": "ed72cbe0",
   "metadata": {},
   "outputs": [],
   "source": [
    "#Sum of payment by the people of three statuses"
   ]
  },
  {
   "cell_type": "code",
   "execution_count": 30,
   "id": "d46b76de",
   "metadata": {},
   "outputs": [],
   "source": [
    "import numpy as np"
   ]
  },
  {
   "cell_type": "code",
   "execution_count": 31,
   "id": "dd699339",
   "metadata": {},
   "outputs": [],
   "source": [
    "Sum_data = final_set.groupby('verification_status')['total_pymnt'].sum()"
   ]
  },
  {
   "cell_type": "code",
   "execution_count": 32,
   "id": "16c6316e",
   "metadata": {},
   "outputs": [
    {
     "data": {
      "text/plain": [
       "verification_status\n",
       "Not Verified       1.535414e+08\n",
       "Source Verified    1.092707e+08\n",
       "Verified           2.198923e+08\n",
       "Name: total_pymnt, dtype: float64"
      ]
     },
     "execution_count": 32,
     "metadata": {},
     "output_type": "execute_result"
    }
   ],
   "source": [
    "Sum_data"
   ]
  },
  {
   "cell_type": "code",
   "execution_count": null,
   "id": "56038c6d",
   "metadata": {},
   "outputs": [],
   "source": [
    "#Converted the data into a dictonary"
   ]
  },
  {
   "cell_type": "code",
   "execution_count": 37,
   "id": "a379281b",
   "metadata": {},
   "outputs": [],
   "source": [
    "Status_dict = dict(Sum_data)"
   ]
  },
  {
   "cell_type": "code",
   "execution_count": 46,
   "id": "c05db00e",
   "metadata": {},
   "outputs": [
    {
     "data": {
      "text/plain": [
       "{'Not Verified': 153541418.210599,\n",
       " 'Source Verified': 109270668.201952,\n",
       " 'Verified': 219892307.510837}"
      ]
     },
     "execution_count": 46,
     "metadata": {},
     "output_type": "execute_result"
    }
   ],
   "source": [
    "Status_dict"
   ]
  },
  {
   "cell_type": "code",
   "execution_count": null,
   "id": "0335ff4b",
   "metadata": {},
   "outputs": [],
   "source": [
    "#Removed the Source verified data using the pop function"
   ]
  },
  {
   "cell_type": "code",
   "execution_count": 49,
   "id": "d617dee9",
   "metadata": {},
   "outputs": [
    {
     "data": {
      "text/plain": [
       "109270668.201952"
      ]
     },
     "execution_count": 49,
     "metadata": {},
     "output_type": "execute_result"
    }
   ],
   "source": [
    "Status_dict.pop('Source Verified')"
   ]
  },
  {
   "cell_type": "code",
   "execution_count": 50,
   "id": "a973fbc0",
   "metadata": {},
   "outputs": [
    {
     "data": {
      "text/plain": [
       "{'Not Verified': 153541418.210599, 'Verified': 219892307.510837}"
      ]
     },
     "execution_count": 50,
     "metadata": {},
     "output_type": "execute_result"
    }
   ],
   "source": [
    "Status_dict"
   ]
  },
  {
   "cell_type": "code",
   "execution_count": null,
   "id": "322985bf",
   "metadata": {},
   "outputs": [],
   "source": [
    "#Made Lists named labels for keys "
   ]
  },
  {
   "cell_type": "code",
   "execution_count": 51,
   "id": "e8783a9e",
   "metadata": {},
   "outputs": [],
   "source": [
    "labels = list(Status_dict.keys())"
   ]
  },
  {
   "cell_type": "code",
   "execution_count": 52,
   "id": "7c394f68",
   "metadata": {},
   "outputs": [
    {
     "data": {
      "text/plain": [
       "['Not Verified', 'Verified']"
      ]
     },
     "execution_count": 52,
     "metadata": {},
     "output_type": "execute_result"
    }
   ],
   "source": [
    "labels"
   ]
  },
  {
   "cell_type": "code",
   "execution_count": null,
   "id": "e2f03256",
   "metadata": {},
   "outputs": [],
   "source": [
    "#Made Lists named values for the corresponding sum data "
   ]
  },
  {
   "cell_type": "code",
   "execution_count": 54,
   "id": "df0b07a1",
   "metadata": {},
   "outputs": [],
   "source": [
    "values = list(Status_dict.values())"
   ]
  },
  {
   "cell_type": "code",
   "execution_count": 55,
   "id": "00a4fcad",
   "metadata": {},
   "outputs": [
    {
     "data": {
      "text/plain": [
       "[153541418.210599, 219892307.510837]"
      ]
     },
     "execution_count": 55,
     "metadata": {},
     "output_type": "execute_result"
    }
   ],
   "source": [
    "values"
   ]
  },
  {
   "cell_type": "code",
   "execution_count": null,
   "id": "cd746778",
   "metadata": {},
   "outputs": [],
   "source": [
    "#Pictorial representation of the Total payment of verified v/s Non verified"
   ]
  },
  {
   "cell_type": "code",
   "execution_count": 56,
   "id": "bce10ba8",
   "metadata": {},
   "outputs": [
    {
     "data": {
      "image/png": "[encoded data removed]",
      "text/plain": [
       "<Figure size 432x288 with 1 Axes>"
      ]
     },
     "metadata": {},
     "output_type": "display_data"
    }
   ],
   "source": [
    "plt.pie(values, labels = labels)\n",
    "plt.show()"
   ]
  },
  {
   "cell_type": "code",
   "execution_count": null,
   "id": "8acbb5f4",
   "metadata": {},
   "outputs": [],
   "source": []
  },
  {
   "cell_type": "code",
   "execution_count": null,
   "id": "4e9e8828",
   "metadata": {},
   "outputs": [],
   "source": []
  }
 ],
 "metadata": {
  "kernelspec": {
   "display_name": "Python 3 (ipykernel)",
   "language": "python",
   "name": "python3"
  },
  "language_info": {
   "codemirror_mode": {
    "name": "ipython",
    "version": 3
   },
   "file_extension": ".py",
   "mimetype": "text/x-python",
   "name": "python",
   "nbconvert_exporter": "python",
   "pygments_lexer": "ipython3",
   "version": "3.9.12"
  }
 },
 "nbformat": 4,
 "nbformat_minor": 5
}
